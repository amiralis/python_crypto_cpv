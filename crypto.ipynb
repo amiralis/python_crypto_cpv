{
 "cells": [
  {
   "cell_type": "markdown",
   "metadata": {},
   "source": [
    "# Getting Started with Cryptography in Python\n",
    "\n",
    "#### Crypto & Privacy Village (DEFCON 24), 2016\n",
    "\n",
    "[Amirali Sanatinia](http://www.ccs.neu.edu/home/amirali)"
   ]
  },
  {
   "cell_type": "markdown",
   "metadata": {},
   "source": [
    " - Cryptography is ubiquitous today\n",
    " - From mobile phones to wireless communication\n",
    " - Supported in almost every programming language \n",
    " - It is even embedded in the CPUs\n",
    " - It is not hard to do crypto right but...\n",
    " \n",
    " <img src=\"include/crypto_failures.png\">\n"
   ]
  },
  {
   "cell_type": "markdown",
   "metadata": {},
   "source": [
    "We will look at the basic blocks of modern crypto using Python. There are a number of crypto libraries in Python:\n",
    "\n",
    " - **pycrypto** (oldest and most widely used)\n",
    " - **m2crypto** (SWIG binding)\n",
    " - **cryptography** (PY2, PY3, PyPy, OpenSSL CFFI binding)\n",
    "\n",
    "\n",
    "We will use the cryptography library. You can download the library from [here](https://cryptography.io/) and follow the instructions. You should be able to install the library using the following command. You need to have pip insalled. \n",
    "\n",
    "```bash\n",
    "pip install cryptography\n",
    "```\n",
    "\n",
    "To install pip, follow the instructions [here](https://pip.pypa.io/)\n",
    "\n",
    "*note: Each code block has extra imports, so that blocks would be independent runnable code*"
   ]
  },
  {
   "cell_type": "markdown",
   "metadata": {},
   "source": [
    "## Cyrptography.io\n",
    "Cryptography components are divided into different submodules. Following is a list of these submodules (not exhaustive)\n",
    "\n",
    "* Primitive Crypto Blocks (*cryptography.hazmat*)\n",
    " * Message Digest and Hashing algorithms (*cryptography.hazmat.primitives.hashes*)\n",
    " * Symmetric encryption algorithms (*cryptography.hazmat.primitives.ciphers*)\n",
    " * Asymmetric encryption algorithms (*cryptography.hazmat.primitives.asymmetric*)\n",
    "* X.509 Ecosystem (*cryptography.x509*)\n",
    "* Full high level crypto recipe (*cryptography.fernet*)"
   ]
  },
  {
   "cell_type": "markdown",
   "metadata": {
    "collapsed": true
   },
   "source": [
    "## Hashing Algorithms\n",
    "\n",
    " - **Input**: long message\n",
    " - **Output**: short block (called hash or message digest)\n",
    " - **Desired properties**: \n",
    "  - Pre-image: Given a hash *h* it is computationally infeasible to find a message *m* that produces *h*\n",
    "  - Second preimage: Given message m, it is computationally infeasible to find a message m’, (m ≠ m’) such that, h(m) = h(m’)\n",
    "  - Collisions: It is computationally difficult to find any two messages m, m’ (m ≠ m’) such that, h(m) = h(m’)\n",
    "\n",
    "**Examples**:\n",
    " - Recommended Hash Algorithm (SHA-2, SHA-3) by NIST\n",
    " - SHA-1: output 160 bits being phased out \n",
    " - MD2, MD4, and MD5 by Ron Rivest [RFC1319, 1320, 1321]\n"
   ]
  },
  {
   "cell_type": "markdown",
   "metadata": {},
   "source": [
    "### SHA Family\n",
    "\n",
    "Secure Hash Algorithm (SHA) family, is a series of hashing algorithms. Ranging from SHA-0 to SHA-3. SHA-0 should never be used, it's advised to move from SHA-1 to SHA-2. SHA-3 is the most recent version, published in 2015.\n",
    "\n",
    " * SHA-1: Digest size (160), Block size (512)\n",
    " * SHA-2: Digest size (224, 256, 384, or 512), Block size (512, 1024)\n",
    " * SHA-3: Digest size (224, 256, 384, 512), Block size (1600)"
   ]
  },
  {
   "cell_type": "code",
   "execution_count": null,
   "metadata": {
    "collapsed": false
   },
   "outputs": [],
   "source": [
    "from cryptography.hazmat.backends import default_backend\n",
    "from cryptography.hazmat.primitives import hashes\n",
    "import base64\n",
    "for _hash in [hashes.SHA1, hashes.SHA224, hashes.SHA256, hashes.SHA384, hashes.SHA512]:\n",
    "    digest = hashes.Hash(_hash(), backend=default_backend())\n",
    "    digest.update(b\"CryptoVillage\")\n",
    "    digest.update(b\"2016\")\n",
    "    msg_digest = digest.finalize()\n",
    "    # Notice the output size of the digest\n",
    "    print _hash.name, len(msg_digest), len(msg_digest) * 8, base64.b64encode(msg_digest)"
   ]
  },
  {
   "cell_type": "markdown",
   "metadata": {
    "collapsed": true
   },
   "source": [
    "### Hash-based message authentication code (HMAC)\n",
    "\n",
    "HMACs are used for message authentications combined with a secret key. The provide integrity check and authentication.\n",
    "\n",
    "<img src=\"include/SHAhmac.png\">\n",
    "\n",
    "image source: wikipedia"
   ]
  },
  {
   "cell_type": "code",
   "execution_count": null,
   "metadata": {
    "collapsed": false
   },
   "outputs": [],
   "source": [
    "from cryptography.hazmat.backends import default_backend\n",
    "from cryptography.hazmat.primitives import hmac, hashes\n",
    "import os\n",
    "import base64\n",
    "\n",
    "hmc_key = k = os.urandom(16)\n",
    "hmc = hmac.HMAC(hmc_key, hashes.SHA1(), default_backend())\n",
    "hmc.update(\"CryptoVillage2016\")\n",
    "hmc_sig = hmc.finalize()\n",
    "print base64.b64encode(hmc_sig)"
   ]
  },
  {
   "cell_type": "code",
   "execution_count": null,
   "metadata": {
    "collapsed": false
   },
   "outputs": [],
   "source": [
    "hmc = hmac.HMAC(hmc_key, hashes.SHA1(), default_backend())\n",
    "hmc.update(\"CryptoVillage2016\")\n",
    "hmc.verify(hmc_sig)"
   ]
  },
  {
   "cell_type": "code",
   "execution_count": null,
   "metadata": {
    "collapsed": false
   },
   "outputs": [],
   "source": [
    "hmc = hmac.HMAC(hmc_key, hashes.SHA1(), default_backend())\n",
    "hmc.update(\"CryptoVillage2016\")\n",
    "hmc.verify(\"Wrong_Signature\")"
   ]
  },
  {
   "cell_type": "markdown",
   "metadata": {
    "collapsed": true
   },
   "source": [
    "<img src=\"include/sym_vs_asym.png\">"
   ]
  },
  {
   "cell_type": "markdown",
   "metadata": {},
   "source": [
    "### RSA\n",
    "\n",
    "RSA, is an asymmetric encryption algorithm by Ron Rivest, Adi Shamir, and Leonard Adleman. It was published in 1977. It's security is based on the hardness of factorization problem. However, now it has its own problem, called the RSA problem. RSA is slow, and is not used for encryptin large data, but it's mostly used to encrypt the symmetric key that is used for encryption.\n",
    "\n",
    "\n",
    " * p, q, two big prime numbers (private, chosen)\n",
    " * n = pq, φ(n) = (p-1)(q-1)   (public, calculated)\n",
    " * e, with gcd(φ(n), e) = 1,  1 < e < φ(n)\t(public, chosen)\n",
    " * d = e - 1 mod φ(n)\t(private, calculated)\n",
    " * $E(M) = M^e \\mod n$\n",
    " * $D(M) = M^d \\mod n$\n",
    " * $D(E(M)) = M^{ed} \\mod n = M$"
   ]
  },
  {
   "cell_type": "markdown",
   "metadata": {
    "collapsed": true
   },
   "source": [
    "## RSA EXAMPLE\n",
    "\n",
    " - p = 5; q = 11 => n = 55\n",
    " - φ(n) = 40\n",
    " - e = 3 => d = 27\n",
    "  - Because ed = 1 mod φ(n)\n",
    " - Public key: (e, n)\n",
    " - Private key: (d, n)\n",
    " - Encryption\n",
    "  - M = 2\n",
    " - Encryption(M) = $ M^e\\mod n$  = $2^3\\mod n$ = 8\n",
    " - Decryption(8) = $ M^d\\mod n$  = $8^{27} \\mod n$ = 2"
   ]
  },
  {
   "cell_type": "code",
   "execution_count": null,
   "metadata": {
    "collapsed": false
   },
   "outputs": [],
   "source": [
    "2 ** 3 % 55"
   ]
  },
  {
   "cell_type": "code",
   "execution_count": null,
   "metadata": {
    "collapsed": false
   },
   "outputs": [],
   "source": [
    "8 ** 27 % 55"
   ]
  },
  {
   "cell_type": "markdown",
   "metadata": {},
   "source": [
    "### OpenSSL\n",
    "\n",
    "To generate keys, use the following instructions:\n",
    "\n",
    "```bash\n",
    " openssl genrsa -out private_key.pem 2048\n",
    " openssl pkcs8 -topk8 -inform PEM -outform DER -in private_key.pem -out private_key.der -nocrypt\n",
    " openssl rsa -in private_key.pem -pubout -outform DER -out public_key.der\n",
    " ```\n",
    " "
   ]
  },
  {
   "cell_type": "code",
   "execution_count": null,
   "metadata": {
    "collapsed": false
   },
   "outputs": [],
   "source": [
    "%%bash\n",
    "openssl genrsa -out private_key.pem 2048\n",
    "openssl pkcs8 -topk8 -inform PEM -outform DER -in private_key.pem -out private_key.der -nocrypt\n",
    "openssl rsa -in private_key.pem -pubout -outform DER -out public_key.der"
   ]
  },
  {
   "cell_type": "code",
   "execution_count": null,
   "metadata": {
    "collapsed": true
   },
   "outputs": [],
   "source": [
    "# import key from a file. E.g., previously generated by OpenSSL\n",
    "from cryptography.hazmat.backends import default_backend\n",
    "from cryptography.hazmat.primitives import serialization\n",
    "\n",
    "with open(\"private_key.pem\", \"rb\") as key_file:\n",
    "     private_key = serialization.load_pem_private_key(\n",
    "            key_file.read(),\n",
    "            password=None,\n",
    "            backend=default_backend())\n",
    "public_key = private_key.public_key()"
   ]
  },
  {
   "cell_type": "code",
   "execution_count": null,
   "metadata": {
    "collapsed": true
   },
   "outputs": [],
   "source": [
    "# Generate a 2048 bit private key\n",
    "from cryptography.hazmat.backends import default_backend\n",
    "from cryptography.hazmat.primitives.asymmetric import rsa\n",
    "\n",
    "private_key = rsa.generate_private_key(\n",
    "    public_exponent=65537,\n",
    "    key_size=2048,\n",
    "    backend=default_backend())\n",
    "# to get the public key\n",
    "public_key = private_key.public_key()"
   ]
  },
  {
   "cell_type": "code",
   "execution_count": null,
   "metadata": {
    "collapsed": false
   },
   "outputs": [],
   "source": [
    "print bin(2**16 + 1)\n",
    "print bin(2**1 + 1)"
   ]
  },
  {
   "cell_type": "markdown",
   "metadata": {},
   "source": [
    "## It's all about padding\n",
    "\n",
    "Textbook RSA is not IND-CPA secure, therefore we use Optimal Asymmetric Encryption Padding (OAEP). There are also other attacks against RSA with improper padding\n",
    "\n",
    "<img src=\"include/RSA_OAEP.png\">\n",
    "\n",
    "image souce: wikipedia"
   ]
  },
  {
   "cell_type": "code",
   "execution_count": null,
   "metadata": {
    "collapsed": true
   },
   "outputs": [],
   "source": [
    "from cryptography.hazmat.backends import default_backend\n",
    "from cryptography.hazmat.primitives import hashes\n",
    "from cryptography.hazmat.primitives.asymmetric import padding\n",
    "\n",
    "message = b\"The SECRET KEY\"\n",
    "ciphertext = public_key.encrypt(\n",
    "    message,\n",
    "    padding.OAEP(\n",
    "        mgf=padding.MGF1(algorithm=hashes.SHA1()),\n",
    "        algorithm=hashes.SHA1(),\n",
    "        label=None))"
   ]
  },
  {
   "cell_type": "code",
   "execution_count": null,
   "metadata": {
    "collapsed": true
   },
   "outputs": [],
   "source": [
    "from cryptography.hazmat.backends import default_backend\n",
    "from cryptography.hazmat.primitives import hashes\n",
    "from cryptography.hazmat.primitives.asymmetric import padding\n",
    "\n",
    "plaintext = private_key.decrypt(\n",
    "    ciphertext,\n",
    "    padding.OAEP(\n",
    "        mgf=padding.MGF1(algorithm=hashes.SHA1()),\n",
    "        algorithm=hashes.SHA1(),\n",
    "        label=None))"
   ]
  },
  {
   "cell_type": "markdown",
   "metadata": {},
   "source": [
    "## Symmetric Encryption\n",
    "\n",
    "In the following we look at the symmetric encryption algorithms. In symmetric crpto, we use the same key for encryption and decryption. Therefore, the two parties needs to establish a secret key between them. It's up to 1000 times faster than asymmetric encryption.\n",
    "\n",
    "\n",
    "### Advanced Encryption Algorithm (AES)\n",
    "\n",
    "AES is based on Rijndael encryption algorithm, designed by Joan Daemen and Vincent Rijmen. It was one of the algorithms submitted to U.S. National Institute of Standards and Technology (NIST) to replace DES and 3DES. It was published in 1998 and accepted and standardized in 2001.\n",
    "\n",
    " * AES supports key sizes of 128/192/256 bits\n",
    " * Block size: 128 bit\n",
    " * It's iterative rather than Feistel cipher\n",
    " * Treats data in 4 groups of 4 bytes\n",
    " * Operates on an entire block in every round\n",
    " * Resistant against known attacks\n",
    " * Speed and code compactness on many CPUs\n",
    " * Rijndael block and key size vary between 128, 192, 256\n",
    " * However, in AES block size in 128\n",
    " * Number of rounds a function of key size\n",
    "  * 128 bits     10 rounds\n",
    "  * 192 bits     12 rounds\n",
    "  * 256 bits     14 rounds\n",
    "\n",
    " * Today most implementations use the CPU support (Intel AES-NI)"
   ]
  },
  {
   "cell_type": "markdown",
   "metadata": {},
   "source": [
    "### Block cipher mode of operation\n",
    "\n",
    "To encrypt messages of arbitrary size with block ciphers, we use the following algorithms, called the modes of operation. They define how to encrypt each block of the plaintext to produce the corresponding cipher text block. Some of these are complemetly insecure (ECB) and should not be used.\n",
    "\n",
    " * Electronic Codebook (ECB)\n",
    " * Cipher Block Chaining (CBC)\n",
    " * Counter (CTR)\n",
    " \n",
    " \n",
    "### Electronic Codebook (ECB)\n",
    "\n",
    "<img src=\"include/ECB_enc.png\">\n",
    "<img src=\"include/ECB_dec.png\">\n",
    "\n",
    "\n",
    "\n",
    "### Cipher Block Chaining (CBC)\n",
    "\n",
    "<img src=\"include/CBC_enc.png\">\n",
    "<img src=\"include/CBC_dec.png\">\n",
    "\n",
    "\n",
    "\n",
    "### Counter (CTR)\n",
    "\n",
    "<img src=\"include/CTR_enc.png\">\n",
    "<img src=\"include/CTR_dec.png\">\n",
    "\n",
    "image source: wikipedia\n",
    "\n",
    "The following images are encrypted with ECB. Note that you can see the pattern in the data. Therefore, ECB is not secure or recommended to be used.\n",
    "\n",
    "<img src=\"include/tux.png\">\n",
    "<img src=\"include/ECB1.png\">\n",
    "<img src=\"include/ECB2.png\">"
   ]
  },
  {
   "cell_type": "code",
   "execution_count": null,
   "metadata": {
    "collapsed": true
   },
   "outputs": [],
   "source": [
    "import os\n",
    "from cryptography.hazmat.primitives.ciphers import Cipher, algorithms, modes\n",
    "from cryptography.hazmat.backends import default_backend\n",
    "key = os.urandom(16) # in bytes, 128 bits\n",
    "iv = os.urandom(16)"
   ]
  },
  {
   "cell_type": "code",
   "execution_count": null,
   "metadata": {
    "collapsed": true
   },
   "outputs": [],
   "source": [
    "# ECB Mode, we only need a key\n",
    "### *** DO NOT ECB. IT IS INSECURE *** ###\n",
    "\n",
    "cipher = Cipher(algorithms.AES(key), modes.ECB(), backend=default_backend())\n",
    "encryptor = cipher.encryptor()\n",
    "# note that we don't need padding here, since len(\"Network Security\") = 16\n",
    "cipher_text = encryptor.update(\"Network Security\") + encryptor.finalize()"
   ]
  },
  {
   "cell_type": "code",
   "execution_count": null,
   "metadata": {
    "collapsed": true
   },
   "outputs": [],
   "source": [
    "cipher_text"
   ]
  },
  {
   "cell_type": "code",
   "execution_count": null,
   "metadata": {
    "collapsed": true
   },
   "outputs": [],
   "source": [
    "decryptor = cipher.decryptor()\n",
    "decryptor.update(cipher_text) + decryptor.finalize()"
   ]
  },
  {
   "cell_type": "code",
   "execution_count": null,
   "metadata": {
    "collapsed": true
   },
   "outputs": [],
   "source": [
    "# CBC Mode, we also need an IV\n",
    "cipher = Cipher(algorithms.AES(key), modes.CBC(iv), backend=default_backend())\n",
    "encryptor = cipher.encryptor()\n",
    "# note that we don't need padding here, since len(\"Network Security\") = 16\n",
    "cipher_text = encryptor.update(\"Network Security\") + encryptor.finalize()"
   ]
  },
  {
   "cell_type": "code",
   "execution_count": null,
   "metadata": {
    "collapsed": true
   },
   "outputs": [],
   "source": [
    "cipher_text"
   ]
  },
  {
   "cell_type": "code",
   "execution_count": null,
   "metadata": {
    "collapsed": true
   },
   "outputs": [],
   "source": [
    "decryptor = cipher.decryptor()\n",
    "decryptor.update(cipher_text) + decryptor.finalize()"
   ]
  },
  {
   "cell_type": "code",
   "execution_count": null,
   "metadata": {
    "collapsed": true
   },
   "outputs": [],
   "source": [
    "# CTR Mode, we don't need padding in CTR mode. In transforms a block cipher into a stream cipher\n",
    "# we only need to introduce the nonce\n",
    "cipher = Cipher(algorithms.AES(key), modes.CTR(os.urandom(16)), backend=default_backend())\n",
    "encryptor = cipher.encryptor()\n",
    "# len(\"Network Security 2016\") = 21, but no padding is needed\n",
    "cipher_text = encryptor.update(\"Network Security 2016\") + encryptor.finalize()"
   ]
  },
  {
   "cell_type": "code",
   "execution_count": null,
   "metadata": {
    "collapsed": true
   },
   "outputs": [],
   "source": [
    "cipher_text"
   ]
  },
  {
   "cell_type": "code",
   "execution_count": null,
   "metadata": {
    "collapsed": true
   },
   "outputs": [],
   "source": [
    "decryptor = cipher.decryptor()\n",
    "decryptor.update(cipher_text) + decryptor.finalize()"
   ]
  },
  {
   "cell_type": "markdown",
   "metadata": {},
   "source": [
    "## Bit flipping attack"
   ]
  },
  {
   "cell_type": "code",
   "execution_count": null,
   "metadata": {
    "collapsed": true
   },
   "outputs": [],
   "source": [
    "iv = os.urandom(16)\n",
    "cipher = Cipher(algorithms.AES(key), modes.CBC(iv), backend=default_backend())\n",
    "encryptor = cipher.encryptor()\n",
    "cipher_text = encryptor.update(\"To:25--From:9367\") + encryptor.finalize()"
   ]
  },
  {
   "cell_type": "code",
   "execution_count": null,
   "metadata": {
    "collapsed": false
   },
   "outputs": [],
   "source": [
    "cipher = Cipher(algorithms.AES(key), modes.CBC(iv), backend=default_backend())\n",
    "decryptor = cipher.decryptor()\n",
    "decryptor.update(cipher_text) + decryptor.finalize()"
   ]
  },
  {
   "cell_type": "code",
   "execution_count": null,
   "metadata": {
    "collapsed": false
   },
   "outputs": [],
   "source": [
    "def xor(s1, s2):\n",
    "    return \"\".join([chr(ord(a) ^ ord(b)) for a,b in zip(s1,s2)]) "
   ]
  },
  {
   "cell_type": "code",
   "execution_count": null,
   "metadata": {
    "collapsed": false
   },
   "outputs": [],
   "source": [
    "iv2 = iv[:3] + xor(xor(iv[3:5], \"25\"), \"80\") + iv[5:]"
   ]
  },
  {
   "cell_type": "code",
   "execution_count": null,
   "metadata": {
    "collapsed": false
   },
   "outputs": [],
   "source": [
    "cipher = Cipher(algorithms.AES(key), modes.CBC(iv2), backend=default_backend())\n",
    "decryptor = cipher.decryptor()\n",
    "decryptor.update(cipher_text) + decryptor.finalize()"
   ]
  },
  {
   "cell_type": "markdown",
   "metadata": {},
   "source": [
    "## Pretty Good Privacy (PGP)\n",
    "\n",
    " - A data encryption/decryption tool\n",
    " - Can be used to encrypt and authenticat email, files, etc.\n",
    " - Created by Phil Zimmermann in 1991\n",
    " - A practical hybrid system that uses symmetric and asymmetric crypto\n",
    "\n",
    "<img src=\"include/PGP.png\">\n",
    "\n",
    "image source: wikipedia"
   ]
  },
  {
   "cell_type": "code",
   "execution_count": null,
   "metadata": {
    "collapsed": true
   },
   "outputs": [],
   "source": [
    "def enc_key(public_key, message):\n",
    "    pass\n",
    "\n",
    "def dec_key(private_key, ciphertext):\n",
    "    pass\n",
    "\n",
    "def enc_msg(key, iv, msg):\n",
    "    pass\n",
    "\n",
    "def dec_msg(key, iv, ciphertext):\n",
    "    pass\n",
    "\n",
    "def gen_hmac(key, msg):\n",
    "    pass\n",
    "\n",
    "def verify_hmac(key, msg, sig):\n",
    "    pass"
   ]
  },
  {
   "cell_type": "code",
   "execution_count": null,
   "metadata": {
    "collapsed": true
   },
   "outputs": [],
   "source": [
    "k1 = os.urandom(16)\n",
    "k2 = os.urandom(16)\n",
    "iv = os.urandom(16)\n",
    "msg = \"CryptoPrivacy 16\"\n",
    "\n",
    "cipher = enc_msg(k1, iv, msg)\n",
    "sig = gen_hmac(k2, msg)\n",
    "encrypted_key = enc_key(public_key, k1)\n",
    "\n",
    "decrypted_key = dec_key(private_key, encrypted_key)\n",
    "plaintext = dec_msg(decrypted_key, iv, cipher)\n",
    "verify_hmac(k2, plaintext, sig)"
   ]
  }
 ],
 "metadata": {
  "kernelspec": {
   "display_name": "Python 2",
   "language": "python",
   "name": "python2"
  },
  "language_info": {
   "codemirror_mode": {
    "name": "ipython",
    "version": 2
   },
   "file_extension": ".py",
   "mimetype": "text/x-python",
   "name": "python",
   "nbconvert_exporter": "python",
   "pygments_lexer": "ipython2",
   "version": "2.7.12"
  }
 },
 "nbformat": 4,
 "nbformat_minor": 0
}
